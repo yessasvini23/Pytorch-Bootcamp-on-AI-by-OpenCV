{
  "nbformat": 4,
  "nbformat_minor": 0,
  "metadata": {
    "colab": {
      "provenance": [],
      "toc_visible": true
    },
    "kernelspec": {
      "name": "python3",
      "display_name": "Python 3"
    },
    "language_info": {
      "name": "python"
    }
  },
  "cells": [
    {
      "cell_type": "markdown",
      "source": [
        "**Torch Autograd** is PyTorch's automatic differentiation engine that powers neural network training by computing gradients of tensor operations. It enables the easy implementation of backpropagation for optimizing complex models, making it very good and easy to use due to its seamless integration with PyTorch's dynamic computation graph, allowing flexible model training.\n",
        "\n",
        "\n",
        " <img src='https://learnopencv.com/wp-content/uploads/2024/08/Autograd-Pytorch.png' width=700 align='center'><br/>"
      ],
      "metadata": {
        "id": "COAp34-phimn"
      }
    },
    {
      "cell_type": "markdown",
      "source": [
        "## Table of Contents\n",
        "\n",
        "\n",
        "* [1. Automatic Differentiation with torch.autograd](#1.-Automatic-Differentiation-with-torch.autograd)\n",
        "* [2. Backpropagation in Neural Networks](#2.-Backpropagation-in-Neural-Networks)\n",
        "* [3. Conclusion](3.-Conclusion)"
      ],
      "metadata": {
        "id": "Iv61PvfMIQ4T"
      }
    },
    {
      "cell_type": "code",
      "source": [
        "!pip install -q torchviz"
      ],
      "metadata": {
        "id": "S0LEHTAkYqP_"
      },
      "execution_count": 2,
      "outputs": []
    },
    {
      "cell_type": "code",
      "source": [
        "import torch\n",
        "import matplotlib.pyplot as plt"
      ],
      "metadata": {
        "id": "1ii6ii2G0pBa"
      },
      "execution_count": 3,
      "outputs": []
    },
    {
      "cell_type": "markdown",
      "source": [
        "# 1. Automatic Differentiation with `torch.autograd`\n",
        "\n",
        "Before proceeding autograd, will understand the basic terms:\n",
        "\n",
        "- **Forward Propagation**:\n",
        "  - Computes the model's output by passing the input data through the network layers. It is often called Forward pass.\n",
        "\n",
        "- **Backward Propagation**:\n",
        "  - Calculates the gradients of the loss with respect to the model's parameters using the chain rule, enabling parameter updates to minimize the loss."
      ],
      "metadata": {
        "id": "saqO_BSmxOGw"
      }
    },
    {
      "cell_type": "markdown",
      "source": [
        "## 1.1. **torch.autograd**\n",
        "\n",
        "\n",
        "[Autograd docs](https://pytorch.org/tutorials/beginner/blitz/autograd_tutorial.html#a-gentle-introduction-to-torch-autograd)"
      ],
      "metadata": {
        "id": "giY1HzL1TfNT"
      }
    },
    {
      "cell_type": "markdown",
      "source": [
        "\n",
        "\n",
        "- We create two tensors `x` and `y` with `requires_grad=True`, indicating that we want to compute gradients for these tensors.\n",
        "\n",
        "\n",
        "\n",
        "- We perform simple operations on `x` and `y` to obtain `z`.\n",
        "\n",
        "- Computing Gradients:\n",
        "We call `z.backward()` to compute the gradients of `z` with respect to `x` and `y`. The gradients are stored in the `grad` attribute of each tensor.\n",
        "\n",
        "\n",
        "\n",
        "\n",
        "In the following example:\n",
        "\n",
        "\n",
        "- The operation is $ z = x \\cdot y + y^2 $.\n",
        "- The partial derivative of $ z $ with respect to $ x $ is $ \\frac{\\partial z}{\\partial x} = y $.\n",
        "- The partial derivative of $ z $ with respect to $ y $ is $ \\frac{\\partial z}{\\partial y} = x + 2y $.\n",
        "\n",
        "Given $ x = 2.0 $ and $ y = 3.0 $:\n",
        "\n",
        "- The gradient of $ z $ w.r.t. $ x $ is $ 3.0 $.\n",
        "- The gradient of $ z $ w.r.t. $ y $ is $ 2.0 + 2 \\cdot 3.0 = 8.0 $.\n",
        "\n",
        "Tensors that require gradients will have their operations tracked by PyTorch's autograd engine, enabling the computation of gradients during backpropagation.\n",
        "\n",
        "\n",
        "<img src=https://learnopencv.com/wp-content/uploads/2024/07/Autograd-Computation-Graph-2-2.png height = 500>\n",
        "\n",
        "\n",
        "The automatic differentiation provided by `torch.autograd` simplifies this process by handling the complex chain rule calculations needed for backpropagation through the entire network.\n",
        "\n",
        "\n",
        "\n",
        "\n",
        "\n",
        "\n",
        "For $\\frac{\\partial z}{\\partial x}$:\n",
        "\n",
        "$$\\frac{\\partial z}{\\partial x} = \\frac{\\partial z}{\\partial p} \\frac{\\partial p}{\\partial x} + \\frac{\\partial z}{\\partial q} \\frac{\\partial q}{\\partial x} = 1 \\cdot y + 1 \\cdot 0 = y$$\n",
        "\n",
        "For $\\frac{\\partial z}{\\partial y}$:\n",
        "\n",
        "$$\\frac{\\partial z}{\\partial y} = \\frac{\\partial z}{\\partial p} \\frac{\\partial p}{\\partial y} + \\frac{\\partial z}{\\partial q} \\frac{\\partial q}{\\partial y} = 1 \\cdot x + 1 \\cdot 2y = x + 2y$$\n",
        "\n",
        "These equations correspond to the chain rule calculations happening behind the scenes, demonstrating how PyTorch's autograd system computes gradients through the computational graph."
      ],
      "metadata": {
        "id": "V4_x3yA6UHW6"
      }
    },
    {
      "cell_type": "code",
      "source": [
        "# Create tensors with requires_grad=True\n",
        "x = torch.tensor([2.0, 5.0], requires_grad=True)\n",
        "y = torch.tensor([3.0, 7.0], requires_grad=True)\n",
        "\n",
        "# Perform some operations\n",
        "z = x * y + y**2\n",
        "\n",
        "z.retain_grad() #By default intermediate layer weight updation is not shown.\n",
        "\n",
        "# Compute the gradients\n",
        "z_sum = z.sum().backward()\n",
        "\n",
        "\n",
        "print(f\"Gradient of x: {x.grad}\")\n",
        "print(f\"Gradient of y: {y.grad}\")\n",
        "print(f\"Gradient of z: {z.grad}\")\n",
        "print(f\"Result of the operation: z = {z.detach()}\")\n"
      ],
      "metadata": {
        "colab": {
          "base_uri": "https://localhost:8080/"
        },
        "id": "PhJTzpFwYO9k",
        "outputId": "efbb23e5-9643-43f9-8d7e-8833003edef9"
      },
      "execution_count": 4,
      "outputs": [
        {
          "output_type": "stream",
          "name": "stdout",
          "text": [
            "Gradient of x: tensor([3., 7.])\n",
            "Gradient of y: tensor([ 8., 19.])\n",
            "Gradient of z: tensor([1., 1.])\n",
            "Result of the operation: z = tensor([15., 84.])\n"
          ]
        }
      ]
    },
    {
      "cell_type": "markdown",
      "source": [
        "## 1.2. Gradient Computation Graph\n",
        "\n",
        "\n",
        "A computation graph is a visual representation of the sequence of operations performed on tensors in a neural network, showing how each operation contributes to the final result. It is crucial for understanding and debugging the flow of data and gradients in deep learning models.\n",
        "\n",
        "[torchviz](https://github.com/szagoruyko/pytorchviz) is a tool used to visualize the computation graph of any PyTorch model.\n",
        "\n",
        "\n",
        "<img src=https://learnopencv.com/wp-content/uploads/2024/07/Autograd-Operators-Graph-1-1.png height = 500 >\n"
      ],
      "metadata": {
        "id": "pPEQSGiDxcEy"
      }
    },
    {
      "cell_type": "code",
      "source": [
        "from torchviz import make_dot\n",
        "\n",
        "# Visualize the computation graph\n",
        "dot = make_dot(z, params={\"x\": x, \"y\": y, \"z\" : z})\n",
        "dot.render(\"grad_computation_graph\", format=\"png\")"
      ],
      "metadata": {
        "colab": {
          "base_uri": "https://localhost:8080/",
          "height": 36
        },
        "id": "wgK1MLDLqXTg",
        "outputId": "531b0cb9-2cb1-44f9-bf9b-09f3e80933e4"
      },
      "execution_count": 5,
      "outputs": [
        {
          "output_type": "execute_result",
          "data": {
            "text/plain": [
              "'grad_computation_graph.png'"
            ],
            "application/vnd.google.colaboratory.intrinsic+json": {
              "type": "string"
            }
          },
          "metadata": {},
          "execution_count": 5
        }
      ]
    },
    {
      "cell_type": "code",
      "source": [
        "img = plt.imread(\"grad_computation_graph.png\")\n",
        "plt.imshow(img)\n",
        "plt.axis('off')\n",
        "plt.show()"
      ],
      "metadata": {
        "colab": {
          "base_uri": "https://localhost:8080/",
          "height": 406
        },
        "id": "s_S2MViLYuoM",
        "outputId": "c8b9b6c7-bb68-4865-daec-1b456f79daae"
      },
      "execution_count": 6,
      "outputs": [
        {
          "output_type": "display_data",
          "data": {
            "text/plain": [
              "<Figure size 640x480 with 1 Axes>"
            ],
            "image/png": "[encoded data removed]"
          },
          "metadata": {}
        }
      ]
    },
    {
      "cell_type": "markdown",
      "source": [
        "## 1.3. Detaching Tensors from Computation Graph\n",
        "\n",
        "The `detach()` method is used to create a new tensor that shares storage with the original tensor but without tracking operations. When you call `detach()`, it returns a new tensor that does not require gradients. This is useful when you want to perform operations on a tensor without affecting the computation graph."
      ],
      "metadata": {
        "id": "ImwpFdQIzjW_"
      }
    },
    {
      "cell_type": "code",
      "source": [
        "# Let's detach z from the computation graph\n",
        "print(\"Before detaching z from computation: \", z.requires_grad)\n",
        "z_det = z.detach()\n",
        "print(\"After detaching z from computation: \", z_det.requires_grad)"
      ],
      "metadata": {
        "colab": {
          "base_uri": "https://localhost:8080/"
        },
        "id": "IMdvA_7ai8ml",
        "outputId": "31b9b2ce-07df-41ee-da89-88cc7ef51664"
      },
      "execution_count": 7,
      "outputs": [
        {
          "output_type": "stream",
          "name": "stdout",
          "text": [
            "Before detaching z from computation:  True\n",
            "After detaching z from computation:  False\n"
          ]
        }
      ]
    },
    {
      "cell_type": "markdown",
      "source": [
        "##  1.4. Can Backpropagation be performed when `requires_grad=False`?"
      ],
      "metadata": {
        "id": "OZRCQNH8W6lt"
      }
    },
    {
      "cell_type": "markdown",
      "source": [
        "Now the same tensors $x$ and $y$ are created with `requires_grad=False`.\n",
        "\n",
        "When attempting to compute the gradients using `z.backward()`, a **RuntimeError** is raised because the tensors do not require gradients, and thus do not have a `grad_fn`."
      ],
      "metadata": {
        "id": "EO2UstPvXeJq"
      }
    },
    {
      "cell_type": "markdown",
      "source": [
        "In this case, since `requires_grad=False` was used, the computation graph is essentially empty, as no gradients will be tracked."
      ],
      "metadata": {
        "id": "Z_ChSyIA0tDJ"
      }
    },
    {
      "cell_type": "code",
      "source": [
        "x = torch.tensor(2.0, requires_grad=False)\n",
        "y = torch.tensor(3.0, requires_grad=False)\n",
        "# Perform simple operations\n",
        "z = x * y + y**2\n",
        "# Compute the gradients\n",
        "z.backward()"
      ],
      "metadata": {
        "colab": {
          "base_uri": "https://localhost:8080/",
          "height": 333
        },
        "id": "hcJk_vA9W9p-",
        "outputId": "6082d2ae-4655-4472-cb64-838c0bdeeefb"
      },
      "execution_count": 13,
      "outputs": [
        {
          "output_type": "error",
          "ename": "RuntimeError",
          "evalue": "element 0 of tensors does not require grad and does not have a grad_fn",
          "traceback": [
            "\u001b[0;31m---------------------------------------------------------------------------\u001b[0m",
            "\u001b[0;31mRuntimeError\u001b[0m                              Traceback (most recent call last)",
            "\u001b[0;32m<ipython-input-13-99cc6262745c>\u001b[0m in \u001b[0;36m<cell line: 0>\u001b[0;34m()\u001b[0m\n\u001b[1;32m      4\u001b[0m \u001b[0mz\u001b[0m \u001b[0;34m=\u001b[0m \u001b[0mx\u001b[0m \u001b[0;34m*\u001b[0m \u001b[0my\u001b[0m \u001b[0;34m+\u001b[0m \u001b[0my\u001b[0m\u001b[0;34m**\u001b[0m\u001b[0;36m2\u001b[0m\u001b[0;34m\u001b[0m\u001b[0;34m\u001b[0m\u001b[0m\n\u001b[1;32m      5\u001b[0m \u001b[0;31m# Compute the gradients\u001b[0m\u001b[0;34m\u001b[0m\u001b[0;34m\u001b[0m\u001b[0m\n\u001b[0;32m----> 6\u001b[0;31m \u001b[0mz\u001b[0m\u001b[0;34m.\u001b[0m\u001b[0mbackward\u001b[0m\u001b[0;34m(\u001b[0m\u001b[0;34m)\u001b[0m\u001b[0;34m\u001b[0m\u001b[0;34m\u001b[0m\u001b[0m\n\u001b[0m",
            "\u001b[0;32m/usr/local/lib/python3.11/dist-packages/torch/_tensor.py\u001b[0m in \u001b[0;36mbackward\u001b[0;34m(self, gradient, retain_graph, create_graph, inputs)\u001b[0m\n\u001b[1;32m    579\u001b[0m                 \u001b[0minputs\u001b[0m\u001b[0;34m=\u001b[0m\u001b[0minputs\u001b[0m\u001b[0;34m,\u001b[0m\u001b[0;34m\u001b[0m\u001b[0;34m\u001b[0m\u001b[0m\n\u001b[1;32m    580\u001b[0m             )\n\u001b[0;32m--> 581\u001b[0;31m         torch.autograd.backward(\n\u001b[0m\u001b[1;32m    582\u001b[0m             \u001b[0mself\u001b[0m\u001b[0;34m,\u001b[0m \u001b[0mgradient\u001b[0m\u001b[0;34m,\u001b[0m \u001b[0mretain_graph\u001b[0m\u001b[0;34m,\u001b[0m \u001b[0mcreate_graph\u001b[0m\u001b[0;34m,\u001b[0m \u001b[0minputs\u001b[0m\u001b[0;34m=\u001b[0m\u001b[0minputs\u001b[0m\u001b[0;34m\u001b[0m\u001b[0;34m\u001b[0m\u001b[0m\n\u001b[1;32m    583\u001b[0m         )\n",
            "\u001b[0;32m/usr/local/lib/python3.11/dist-packages/torch/autograd/__init__.py\u001b[0m in \u001b[0;36mbackward\u001b[0;34m(tensors, grad_tensors, retain_graph, create_graph, grad_variables, inputs)\u001b[0m\n\u001b[1;32m    345\u001b[0m     \u001b[0;31m# some Python versions print out the first line of a multi-line function\u001b[0m\u001b[0;34m\u001b[0m\u001b[0;34m\u001b[0m\u001b[0m\n\u001b[1;32m    346\u001b[0m     \u001b[0;31m# calls in the traceback and some print out the last line\u001b[0m\u001b[0;34m\u001b[0m\u001b[0;34m\u001b[0m\u001b[0m\n\u001b[0;32m--> 347\u001b[0;31m     _engine_run_backward(\n\u001b[0m\u001b[1;32m    348\u001b[0m         \u001b[0mtensors\u001b[0m\u001b[0;34m,\u001b[0m\u001b[0;34m\u001b[0m\u001b[0;34m\u001b[0m\u001b[0m\n\u001b[1;32m    349\u001b[0m         \u001b[0mgrad_tensors_\u001b[0m\u001b[0;34m,\u001b[0m\u001b[0;34m\u001b[0m\u001b[0;34m\u001b[0m\u001b[0m\n",
            "\u001b[0;32m/usr/local/lib/python3.11/dist-packages/torch/autograd/graph.py\u001b[0m in \u001b[0;36m_engine_run_backward\u001b[0;34m(t_outputs, *args, **kwargs)\u001b[0m\n\u001b[1;32m    823\u001b[0m         \u001b[0munregister_hooks\u001b[0m \u001b[0;34m=\u001b[0m \u001b[0m_register_logging_hooks_on_whole_graph\u001b[0m\u001b[0;34m(\u001b[0m\u001b[0mt_outputs\u001b[0m\u001b[0;34m)\u001b[0m\u001b[0;34m\u001b[0m\u001b[0;34m\u001b[0m\u001b[0m\n\u001b[1;32m    824\u001b[0m     \u001b[0;32mtry\u001b[0m\u001b[0;34m:\u001b[0m\u001b[0;34m\u001b[0m\u001b[0;34m\u001b[0m\u001b[0m\n\u001b[0;32m--> 825\u001b[0;31m         return Variable._execution_engine.run_backward(  # Calls into the C++ engine to run the backward pass\n\u001b[0m\u001b[1;32m    826\u001b[0m             \u001b[0mt_outputs\u001b[0m\u001b[0;34m,\u001b[0m \u001b[0;34m*\u001b[0m\u001b[0margs\u001b[0m\u001b[0;34m,\u001b[0m \u001b[0;34m**\u001b[0m\u001b[0mkwargs\u001b[0m\u001b[0;34m\u001b[0m\u001b[0;34m\u001b[0m\u001b[0m\n\u001b[1;32m    827\u001b[0m         )  # Calls into the C++ engine to run the backward pass\n",
            "\u001b[0;31mRuntimeError\u001b[0m: element 0 of tensors does not require grad and does not have a grad_fn"
          ]
        }
      ]
    },
    {
      "cell_type": "markdown",
      "source": [
        "# 2. Backpropagation in Neural Networks\n",
        "\n",
        "<img src=https://learnopencv.com/wp-content/uploads/2017/10/gradient-descent-2d-diagram.png>"
      ],
      "metadata": {
        "id": "ybyuJgxDnokS"
      }
    },
    {
      "cell_type": "markdown",
      "source": [
        "We have understood the mathematical intuition behind and how **torch.autograd** takes care of automatic differentiation with an example.\n",
        "\n",
        "Then,\n",
        " * The loss is calculate between prediction and target using `loss(predcition,target`)\n",
        " * Then backpropagation is performed using `loss.backward()`\n",
        " * We update the new weights using `optimizer.step()`\n",
        "\n",
        "<img src=https://learnopencv.com/wp-content/uploads/2023/01/keras-linear-regression-weight-update-block-diagram.png>\n",
        "\n",
        "\n",
        "**The Weight Update Formula is:**\n",
        "\n",
        "\n",
        "$$ \\mathbf{w}_{\\text{new}} = \\mathbf{w} - \\eta \\nabla L(\\mathbf{w}) $$\n",
        "\n",
        "The gradient of $ L $ is a vector of partial derivatives:\n",
        "\n",
        "$$ \\nabla L = \\left( \\frac{\\partial L}{\\partial w_1}, \\frac{\\partial L}{\\partial w_2}, \\ldots, \\frac{\\partial L}{\\partial w_n} \\right) $$\n",
        "\n",
        "- **Current Weights $( \\mathbf{w} )$**: These are the weights of the model before the update.\n",
        "- **Learning Rate $( \\eta )$**: A hyperparameter that controls the step size of the weight update. A smaller learning rate makes the training process slower but more precise, while a larger learning rate makes the training process faster but it may sometimes overshoot the optimal solution.\n",
        "- **Gradient of the Loss $( \\nabla L(\\mathbf{w}) )$**: The partial derivatives of the loss function with respect to each weight. This indicates the direction and magnitude of the steepest ascent in the loss function.\n",
        "- **Updated Weights $(\\mathbf{w}_{\\text{new}} )$**: The new weights after applying the gradient descent step.\n",
        "\n",
        "\n",
        "After applying the updates, it's crucial to zero out the gradients. This is typically done using: `optimizer.zer_grad()`\n",
        "\n"
      ],
      "metadata": {
        "id": "x8VOvuWd57tU"
      }
    },
    {
      "cell_type": "markdown",
      "source": [
        "Interesting, right? This is how the model learns. During training, the model iteratively adjusts its weights and biases to minimize the loss function, which measures the difference between the predicted outputs and the actual targets.\n",
        "\n",
        "This process of forward pass, gradient computation, backward pass, and parameter update is repeated for many iterations (epochs) over the entire dataset. With each iteration, the model's parameters are refined, gradually reducing the loss and improving the model's performance.\n",
        "\n",
        "In our upcoming notebooks we will understand all these concepts with hands on training."
      ],
      "metadata": {
        "id": "7yNNhLyMtymB"
      }
    },
    {
      "cell_type": "markdown",
      "source": [
        "# 3. Conclusion\n",
        "\n",
        "\n",
        "We learnt how the gradients are updated mathematically with a node graph diagrams. We also visualized the computation graph using `torchviz`, providing a clear understanding of how operations are structured in PyTorch. Finally, we understood how weight updates happen during training with code, illustrating the core mechanism of model learning.\n",
        "\n",
        "\n",
        "While this notebook provides a great start, our full course offers detailed explanations, hands-on projects, and expert guidance to help you master PyTorch and deep learning. Join here: [Deep Learning with PyTorch Course](https://opencv.org/university/deep-learning-with-pytorch/)"
      ],
      "metadata": {
        "id": "qp40-0HXImYQ"
      }
    },
    {
      "cell_type": "code",
      "source": [],
      "metadata": {
        "id": "slPSIkzY1qa9"
      },
      "execution_count": 13,
      "outputs": []
    }
  ]
}