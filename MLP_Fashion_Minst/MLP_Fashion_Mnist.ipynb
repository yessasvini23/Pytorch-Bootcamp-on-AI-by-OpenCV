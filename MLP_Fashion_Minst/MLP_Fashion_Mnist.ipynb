{
  "nbformat": 4,
  "nbformat_minor": 0,
  "metadata": {
    "colab": {
      "provenance": [],
      "gpuType": "T4"
    },
    "kernelspec": {
      "name": "python3",
      "display_name": "Python 3"
    },
    "language_info": {
      "name": "python"
    },
    "accelerator": "GPU"
  },
  "cells": [
    {
      "cell_type": "markdown",
      "source": [
        "<h1 style=\"font-size:30px;\">Fashion MNIST Classification using PyTorch</h1>\n",
        "\n",
        "In this notebook, we will introduce several new concepts associated with the general problem of classification involving more than two classes. Specifically, in this notebook, we will see how to classify clothing items from the Fashion MNIST database. The Fashion MNIST dataset is included in `torchvision.datasets` and can easily be imported and loaded, as we will see below. Using this dataset, we will demonstrate how to work with image data that represents ten different classes of clothing items and how to develop a network architecture that includes ten neurons whose outputs represent the probability of the classes.\n",
        "\n",
        "\n",
        "\n",
        "<img src=\"https://www.dropbox.com/scl/fi/dwxxxfuitptyqj1phxzm3/pytorch-cnn-based-classification-model-with-fashion-mnist_02-1.jpg?rlkey=ao3t3riq0npt6j79vvlp97qhz&st=0bwpnki2&dl=1\" width=850>"
      ],
      "metadata": {
        "id": "sODL_QrxpMIj"
      }
    },
    {
      "cell_type": "markdown",
      "source": [
        "## Table of Contents\n",
        "* [1. Prepare the DataLoader](#1.-Prepare-the-DataLoader)\n",
        "* [2. Dataset Visualization](#2.-Dataset-Visualization)\n",
        "* [3. Model Architecture](#3.-Model-Architecture)\n",
        "* [4. Multi Layer Perceptron Model Implementation](#4.-Multi-Layer-Perceptron-Model-Implementation)\n",
        "* [5. Inference Results](#5.-Inference-Results)\n",
        "* [6. Conclusion](#6.-Conclusion)"
      ],
      "metadata": {
        "id": "VarLq8K0HEE-"
      }
    },
    {
      "cell_type": "markdown",
      "source": [
        "### Import Dependencies"
      ],
      "metadata": {
        "id": "ACsNtoBQ5dyy"
      }
    },
    {
      "cell_type": "code",
      "source": [
        "# To view Model Summary\n",
        "!pip install -q torchinfo"
      ],
      "metadata": {
        "id": "byZJKgrkqJOr"
      },
      "execution_count": null,
      "outputs": []
    },
    {
      "cell_type": "code",
      "source": [
        "import torch\n",
        "from torchvision import datasets, transforms\n",
        "\n",
        "# Load the Fashion MNIST dataset (without normalization)\n",
        "dataset = datasets.FashionMNIST(root='./data', train=True, download=True, transform=transforms.ToTensor())\n",
        "\n",
        "# Stack all images into a single tensor and compute mean and std\n",
        "all_pixels = torch.cat([img.view(-1) for img, _ in dataset])\n",
        "mean = all_pixels.mean().item()\n",
        "std = all_pixels.std().item()\n",
        "\n",
        "print(f\"Mean: {mean:.4f}, Std: {std:.4f}\")"
      ],
      "metadata": {
        "colab": {
          "base_uri": "https://localhost:8080/"
        },
        "id": "XdomME5oZwMi",
        "outputId": "6c93dc7a-a737-447c-f907-a75c1faae97f"
      },
      "execution_count": null,
      "outputs": [
        {
          "output_type": "stream",
          "name": "stdout",
          "text": [
            "Downloading http://fashion-mnist.s3-website.eu-central-1.amazonaws.com/train-images-idx3-ubyte.gz\n",
            "Downloading http://fashion-mnist.s3-website.eu-central-1.amazonaws.com/train-images-idx3-ubyte.gz to ./data/FashionMNIST/raw/train-images-idx3-ubyte.gz\n"
          ]
        },
        {
          "output_type": "stream",
          "name": "stderr",
          "text": [
            "100%|██████████| 26.4M/26.4M [00:02<00:00, 10.4MB/s]\n"
          ]
        },
        {
          "output_type": "stream",
          "name": "stdout",
          "text": [
            "Extracting ./data/FashionMNIST/raw/train-images-idx3-ubyte.gz to ./data/FashionMNIST/raw\n",
            "\n",
            "Downloading http://fashion-mnist.s3-website.eu-central-1.amazonaws.com/train-labels-idx1-ubyte.gz\n",
            "Downloading http://fashion-mnist.s3-website.eu-central-1.amazonaws.com/train-labels-idx1-ubyte.gz to ./data/FashionMNIST/raw/train-labels-idx1-ubyte.gz\n"
          ]
        },
        {
          "output_type": "stream",
          "name": "stderr",
          "text": [
            "100%|██████████| 29.5k/29.5k [00:00<00:00, 173kB/s]\n"
          ]
        },
        {
          "output_type": "stream",
          "name": "stdout",
          "text": [
            "Extracting ./data/FashionMNIST/raw/train-labels-idx1-ubyte.gz to ./data/FashionMNIST/raw\n",
            "\n",
            "Downloading http://fashion-mnist.s3-website.eu-central-1.amazonaws.com/t10k-images-idx3-ubyte.gz\n",
            "Downloading http://fashion-mnist.s3-website.eu-central-1.amazonaws.com/t10k-images-idx3-ubyte.gz to ./data/FashionMNIST/raw/t10k-images-idx3-ubyte.gz\n"
          ]
        },
        {
          "output_type": "stream",
          "name": "stderr",
          "text": [
            "100%|██████████| 4.42M/4.42M [00:01<00:00, 3.16MB/s]\n"
          ]
        },
        {
          "output_type": "stream",
          "name": "stdout",
          "text": [
            "Extracting ./data/FashionMNIST/raw/t10k-images-idx3-ubyte.gz to ./data/FashionMNIST/raw\n",
            "\n",
            "Downloading http://fashion-mnist.s3-website.eu-central-1.amazonaws.com/t10k-labels-idx1-ubyte.gz\n",
            "Downloading http://fashion-mnist.s3-website.eu-central-1.amazonaws.com/t10k-labels-idx1-ubyte.gz to ./data/FashionMNIST/raw/t10k-labels-idx1-ubyte.gz\n"
          ]
        },
        {
          "output_type": "stream",
          "name": "stderr",
          "text": [
            "100%|██████████| 5.15k/5.15k [00:00<00:00, 23.6MB/s]\n"
          ]
        },
        {
          "output_type": "stream",
          "name": "stdout",
          "text": [
            "Extracting ./data/FashionMNIST/raw/t10k-labels-idx1-ubyte.gz to ./data/FashionMNIST/raw\n",
            "\n",
            "Mean: 0.2860, Std: 0.3530\n"
          ]
        }
      ]
    },
    {
      "cell_type": "code",
      "execution_count": null,
      "metadata": {
        "id": "6QQFA6Fr1cxH"
      },
      "outputs": [],
      "source": [
        "import torch\n",
        "from torch import nn\n",
        "import torch.nn.functional as F\n",
        "import torch.optim as optim\n",
        "from torchinfo import summary\n",
        "\n",
        "import torchvision\n",
        "from torchvision import datasets, transforms\n",
        "\n",
        "import matplotlib.pyplot as plt\n",
        "import numpy as np\n",
        "import random\n",
        "import time\n",
        "\n",
        "%matplotlib inline"
      ]
    },
    {
      "cell_type": "markdown",
      "source": [
        "### Set seed for reproducibility"
      ],
      "metadata": {
        "id": "9_s1zG96YYaU"
      }
    },
    {
      "cell_type": "code",
      "source": [
        "def set_seeds():\n",
        "    # set random seed value\n",
        "    SEED_VALUE = 42\n",
        "\n",
        "    random.seed(SEED_VALUE)\n",
        "    np.random.seed(SEED_VALUE)\n",
        "    torch.manual_seed(SEED_VALUE)\n",
        "    # Fix seed to make training deterministic.\n",
        "    if torch.cuda.is_available():\n",
        "       torch.cuda.manual_seed(SEED_VALUE)\n",
        "       torch.cuda.manual_seed_all(SEED_VALUE)\n",
        "       torch.backends.cudnn.deterministic = True\n",
        "       torch.backends.cudnn.benchmark = True\n",
        "\n",
        "set_seeds()"
      ],
      "metadata": {
        "id": "_Rc_qBWVYXfg"
      },
      "execution_count": null,
      "outputs": []
    },
    {
      "cell_type": "markdown",
      "source": [
        "## 1. Prepare the DataLoader\n",
        "\n",
        "The Fashion MNIST dataset can be easily downloaded with `torchvision.datasets` and contains 70,000 images partitioned into 60,000 for training and 10,000 for test. We will perform validation and final prediction on the test dataset.\n",
        "\n",
        "\n",
        "### 1.1. Input Feature Transformation and Normalization\n",
        "\n",
        "Since we are now working with images as the input, we need to find some logical way to represent the image data as a set of features. A naive approach that actually works fairly well for this dataset is to just assume that the pixel intensities are the features. And one way to transform the image data into a set of features that we can process is to flatten the 2D array into a 1D array. The `28x28` input image thus becomes a 1D array containing `784` features. Notice that we also normalize the pixel intensities to be in the range `[0, 1]`. This is very common when working with image data which helps the model train more efficiently. Also, using the pixel intensities as features is a naive approach that we are using intentionally here to keep things simple. As we will see in subsequent posts, we will learn about convolutional neural networks (CNNs), which use more advanced techniques for representing and processing image data in neural networks.\n"
      ],
      "metadata": {
        "id": "dm8CupUU5jpS"
      }
    },
    {
      "cell_type": "code",
      "source": [
        "# Step 1: Download the training set without normalization\n",
        "raw_transform = transforms.Compose([transforms.ToTensor()])\n",
        "train_set_raw = datasets.FashionMNIST(root=\"F_MNIST_data\", download=True, train=True, transform=raw_transform)\n",
        "\n",
        "# Step 2: Compute mean and std from the training set\n",
        "all_pixels = torch.cat([img.view(-1) for img, _ in train_set_raw])\n",
        "mean = all_pixels.mean().item()\n",
        "std = all_pixels.std().item()\n",
        "\n",
        "print(f\"Computed Mean: {mean:.4f}, Computed Std: {std:.4f}\")\n",
        "\n",
        "# Step 3: Define the new transform using the computed mean and std\n",
        "transform = transforms.Compose([\n",
        "    transforms.ToTensor(),\n",
        "    transforms.Normalize((mean,), (std,))\n",
        "])\n",
        "\n",
        "# Step 4: Reload datasets with proper normalization\n",
        "train_set = datasets.FashionMNIST(root=\"F_MNIST_data\", download=True, train=True, transform=transform)\n",
        "val_set = datasets.FashionMNIST(root=\"F_MNIST_data\", download=True, train=False, transform=transform)  # Test set\n",
        "\n",
        "print(\"Total Train Images:\", len(train_set))\n",
        "print(\"Total Val Images:\", len(val_set))\n"
      ],
      "metadata": {
        "id": "BQU54ARD5ZmQ",
        "colab": {
          "base_uri": "https://localhost:8080/"
        },
        "outputId": "2663dfe7-b246-4693-c810-3bf4f96f72a0"
      },
      "execution_count": null,
      "outputs": [
        {
          "output_type": "stream",
          "name": "stdout",
          "text": [
            "Total Train Images:  60000\n",
            "Total Val Images:  10000\n"
          ]
        }
      ]
    },
    {
      "cell_type": "code",
      "source": [],
      "metadata": {
        "id": "18ufkUJvZr_H"
      },
      "execution_count": null,
      "outputs": []
    },
    {
      "cell_type": "markdown",
      "source": [
        "To avoid the MLP network from learning the sequence pattern in the dataset we will shuffle the train dataset. A batch size is determined based on the compute resource available. As this is a relatively less compute intensive training we can set the `batch_size = 64`."
      ],
      "metadata": {
        "id": "bRRAiy7gK2BH"
      }
    },
    {
      "cell_type": "code",
      "source": [
        "train_loader = torch.utils.data.DataLoader(train_set, shuffle = True, batch_size = 64)\n",
        "val_loader = torch.utils.data.DataLoader(val_set, shuffle = False, batch_size = 64)"
      ],
      "metadata": {
        "id": "j7_BxBWiKxLD"
      },
      "execution_count": null,
      "outputs": []
    },
    {
      "cell_type": "markdown",
      "source": [
        "The Fashion MNIST contains 10 classes as follows:\n",
        "\n",
        "```html\n",
        "Label\tDescription\n",
        "0\t    T-shirt/top\n",
        "1\t    Trouser\n",
        "2\t    Pullover\n",
        "3\t    Dress\n",
        "4\t    Coat\n",
        "5\t    Sandal\n",
        "6\t    Shirt\n",
        "7\t    Sneaker\n",
        "8\t    Bag\n",
        "9\t    Ankle boot\n",
        "```"
      ],
      "metadata": {
        "id": "PCigBRMrLgVj"
      }
    },
    {
      "cell_type": "code",
      "source": [
        "#class to idx mapping\n",
        "class_mapping = {\n",
        "    0: \"T-shirt/top\",\n",
        "    1: \"Trouser\",\n",
        "    2: \"Pullover\",\n",
        "    3: \"Dress\",\n",
        "    4: \"Coat\",\n",
        "    5: \"Sandal\",\n",
        "    6: \"Shirt\",\n",
        "    7: \"Sneaker\",\n",
        "    8: \"Bag\",\n",
        "    9: \"Ankle boot\"  }"
      ],
      "metadata": {
        "id": "9WrK1MwnRsf9"
      },
      "execution_count": null,
      "outputs": []
    },
    {
      "cell_type": "markdown",
      "source": [
        "## 2. Dataset Visualization\n",
        "\n"
      ],
      "metadata": {
        "id": "m1kVTFY980ey"
      }
    },
    {
      "cell_type": "code",
      "source": [
        "def visualize_images(trainloader, num_images=20):\n",
        "    fig = plt.figure(figsize=(10, 10))\n",
        "\n",
        "    # Iterate over the first batch\n",
        "    images, labels = next(iter(trainloader))\n",
        "\n",
        "    #To calculate the number of rows and columns for subplots\n",
        "    num_rows = 4\n",
        "    num_cols = int(np.ceil(num_images / num_rows))\n",
        "\n",
        "    for idx in range(min(num_images, len(images))):\n",
        "      image, label = images[idx], labels[idx]\n",
        "\n",
        "      ax = fig.add_subplot(num_rows, num_cols, idx+1, xticks=[], yticks=[])\n",
        "      ax.imshow(np.squeeze(image), cmap=\"gray\")\n",
        "      ax.set_title(f\"{label.item()}:{class_mapping[label.item()]}\")\n",
        "\n",
        "    fig.tight_layout()\n",
        "    plt.show()\n",
        "\n",
        "visualize_images(train_loader, num_images=16)"
      ],
      "metadata": {
        "colab": {
          "base_uri": "https://localhost:8080/",
          "height": 1000
        },
        "id": "0WhL79M78yeH",
        "outputId": "fe285a1e-516f-4b8d-88c7-8a5c3e7ab523"
      },
      "execution_count": null,
      "outputs": [
        {
          "output_type": "display_data",
          "data": {
            "text/plain": [
              "<Figure size 1000x1000 with 16 Axes>"
            ],
            "image/png": "[encoded data removed]"
          },
          "metadata": {}
        }
      ]
    },
    {
      "cell_type": "markdown",
      "source": [
        "## 3. Model Architecture\n",
        "\n",
        "### 3.1 Deep Neural Network Architecture\n",
        "\n",
        "The network architecture shown below has multiple layers. An input layer, five hidden layers, and an output layer. There are several things to note about this architecture.\n",
        "\n",
        "1. **Input Data**: The image input data is pre-processed (flattened) from a 2-Dimensional array `[28x28]` to 1-Dimensional vector of length `[784x1]` where the elements in this input vector are the normalized pixel intensities.\n",
        "2. **Hidden Layers**: We have five hidden layers that contain some number of neurons (that we need to specify). Each of the neurons in these layers has a non-linear activation function (e.g., **ReLU**, Sigmoid, etc.).\n",
        "3. **Output Layer**: We now have ten neurons in the output layer to represent the ten different classes (cloth items: 0 to 9), instead of a single neuron as in the regression example.\n",
        "4. **Dense Layers**: All the layers in the network are fully connected, meaning that each neuron in a given layer is fully connected (or dense) to each of the neurons in the previous layer. The **weights** associated with each layer are represented in bold to indicate that these are matrices that contain each of the weights for all the connections between adjacent layers in the network.\n",
        "5. **Softmax Function**: The values from each of the neurons in the output layer are pased through a `log_softmax()` function to produce a probability score for each of the ten cloth items in the dataset.\n",
        "\n",
        "6. **Network Output**: The network output ($y’$), is a vector of length ten, that contains the probabilities of each output neuron. Predicting the class label simply requires passing ($y'$) through the `argmax` function to determine the index of the predicted label.\n",
        "6. **Loss Function**: The loss function used is **Negative Log Likelihood Loss**. It is computed from the ground truth labels ($y$) and the output log probabilities of the network ($y'$). Note that $y$ and $y'$ are both matrices whose shape is `(Bacth Size, Num Classes)`.\n",
        "\n",
        "Although the diagram looks quite a bit different from the single-layer perceptron in the linear regression example, it is fundamentally very similar in terms of the processing that takes place during training and prediction. We still compute a loss based on the predicted output of the network and the ground truth label of the inputs. Backpropagation is used to compute the gradient of the loss with respect to the weights in the network. An Adam optimizer is used to update the weights in the neural network.\n",
        "\n",
        "<img src='https://www.dropbox.com/scl/fi/56ks2wo5pem1m58djqsi8/MLP-with-Fashion-MNIST-Pipeline.png?rlkey=b7is8m2cz222fa6x88px2ll79&st=qvlv5i5f&dl=1' align='center' width='1000'>"
      ],
      "metadata": {
        "id": "cC_zqXPWL9T3"
      }
    },
    {
      "cell_type": "markdown",
      "source": [
        "## 4. Multi Layer Perceptron Model Implementation.\n",
        "\n",
        "The following defines an MLP (Multi-Layer Perceptron) model for classifying images into `10` classes using PyTorch `nn` Module. The model consists of five fully connected layers with `ReLU` activations, batch normalization, and dropout for regularization. The input layer processes `28x28` images (flattened to `784` features), and the output layer uses a log-softmax activation function to produce probabilities for the `10` classes.\n",
        "\n",
        "Here we use log-softmax at the output layers, as Negative Log Likelihood Loss expects the model's outputs in terms of log probabilities. Dropout is used to prevent overfitting by randomly setting some of the activations to zero during training, and this is compensated by a scale factor to maintain the overall sum of activations."
      ],
      "metadata": {
        "id": "scb-ME5ZTIR9"
      }
    },
    {
      "cell_type": "code",
      "source": [
        "class MLP(nn.Module):\n",
        "    def __init__(self, num_classes):\n",
        "        super().__init__()\n",
        "        self.fc0 = nn.Linear(784, 512)\n",
        "        self.bn0 = nn.BatchNorm1d(512)\n",
        "        self.fc1 = nn.Linear(512, 256)\n",
        "        self.bn1 = nn.BatchNorm1d(256)\n",
        "        self.fc2 = nn.Linear(256, 128)\n",
        "        self.bn2 = nn.BatchNorm1d(128)\n",
        "        self.fc3 = nn.Linear(128, 64)\n",
        "        self.bn3 = nn.BatchNorm1d(64)\n",
        "        self.fc4 = nn.Linear(64,num_classes)\n",
        "\n",
        "        self.dropout = nn.Dropout(p=0.3)\n",
        "\n",
        "    def forward(self, x):\n",
        "        #Flatten the input tensor\n",
        "        x = x.view(x.shape[0], -1) #(B,784)  --> 28x28 = 784\n",
        "        # First fully connected layer with ReLU, batch norm, and dropout\n",
        "        x = F.relu(self.bn0(self.fc0(x)))\n",
        "        x = self.dropout(x)\n",
        "\n",
        "        x = F.relu(self.bn1(self.fc1(x)))\n",
        "\n",
        "        x = F.relu(self.bn2(self.fc2(x)))\n",
        "        x = self.dropout(x)\n",
        "        # Output layer with softmax activation\n",
        "        x = F.relu(self.bn3(self.fc3(x)))\n",
        "        x = F.log_softmax(self.fc4(x), dim = 1)\n",
        "\n",
        "        return x\n",
        "\n",
        "# Instantiate the model.\n",
        "mlp_model = MLP(num_classes = 10)"
      ],
      "metadata": {
        "id": "jcozuFKq_7IG"
      },
      "execution_count": null,
      "outputs": []
    },
    {
      "cell_type": "markdown",
      "source": [
        "Let's look at the parameters and the output shape after each layers."
      ],
      "metadata": {
        "id": "RaiUh7ohSn7Q"
      }
    },
    {
      "cell_type": "code",
      "source": [
        "#A dummy input size of (B,C,H,W) = (1,1,28,28) is passed.\n",
        "print(summary(mlp_model, input_size = (1,1,28,28), row_settings = [\"var_names\"]))\n",
        "# Display the model summary."
      ],
      "metadata": {
        "colab": {
          "base_uri": "https://localhost:8080/"
        },
        "id": "9vAF1dtqX9kc",
        "outputId": "6809913b-c973-4ca9-fe74-63d2b727a936"
      },
      "execution_count": null,
      "outputs": [
        {
          "output_type": "stream",
          "name": "stdout",
          "text": [
            "==========================================================================================\n",
            "Layer (type (var_name))                  Output Shape              Param #\n",
            "==========================================================================================\n",
            "MLP (MLP)                                [1, 10]                   --\n",
            "├─Linear (fc0)                           [1, 512]                  401,920\n",
            "├─BatchNorm1d (bn0)                      [1, 512]                  1,024\n",
            "├─Dropout (dropout)                      [1, 512]                  --\n",
            "├─Linear (fc1)                           [1, 256]                  131,328\n",
            "├─BatchNorm1d (bn1)                      [1, 256]                  512\n",
            "├─Linear (fc2)                           [1, 128]                  32,896\n",
            "├─BatchNorm1d (bn2)                      [1, 128]                  256\n",
            "├─Dropout (dropout)                      [1, 128]                  --\n",
            "├─Linear (fc3)                           [1, 64]                   8,256\n",
            "├─BatchNorm1d (bn3)                      [1, 64]                   128\n",
            "├─Linear (fc4)                           [1, 10]                   650\n",
            "==========================================================================================\n",
            "Total params: 576,970\n",
            "Trainable params: 576,970\n",
            "Non-trainable params: 0\n",
            "Total mult-adds (M): 0.58\n",
            "==========================================================================================\n",
            "Input size (MB): 0.00\n",
            "Forward/backward pass size (MB): 0.02\n",
            "Params size (MB): 2.31\n",
            "Estimated Total Size (MB): 2.33\n",
            "==========================================================================================\n"
          ]
        }
      ]
    },
    {
      "cell_type": "markdown",
      "source": [
        "#### **4.1. Training Configuration**"
      ],
      "metadata": {
        "id": "rBB8YrmKo9rX"
      }
    },
    {
      "cell_type": "code",
      "source": [
        "criterion = F.nll_loss #Negative Log Likelihood Loss\n",
        "optimizer = optim.Adam(mlp_model.parameters(), lr = 1e-2) #0.01\n",
        "num_epochs = 40\n",
        "DEVICE = \"cuda\" if torch.cuda.is_available() else \"cpu\""
      ],
      "metadata": {
        "id": "z4XZlCsnX-Tw"
      },
      "execution_count": null,
      "outputs": []
    },
    {
      "cell_type": "markdown",
      "source": [
        "#### **4.2. Model Training**\n",
        "\n",
        "For training the model, input images, and the labels has to be on the same device, either on `cuda` or `cpu`."
      ],
      "metadata": {
        "id": "qtqfZbQYpB2q"
      }
    },
    {
      "cell_type": "code",
      "source": [
        "def train(model, trainloader, criterion, optimizer,DEVICE):\n",
        "    model.train()\n",
        "    model.to(DEVICE)\n",
        "    running_loss = 0\n",
        "    correct_predictions = 0\n",
        "    total_samples = 0\n",
        "\n",
        "    for images, labels in trainloader:\n",
        "        images,labels = images.to(DEVICE),labels.to(DEVICE)\n",
        "        optimizer.zero_grad()\n",
        "        outputs = model(images)\n",
        "        loss = criterion(outputs, labels)\n",
        "        loss.backward()\n",
        "        optimizer.step()\n",
        "\n",
        "        running_loss += loss.item()\n",
        "        _, predicted = torch.max(outputs.data, dim=1)\n",
        "        total_samples += labels.size(0)\n",
        "        correct_predictions += (predicted == labels).sum().item()\n",
        "\n",
        "    avg_loss = running_loss / len(trainloader)\n",
        "    accuracy = 100 * correct_predictions / total_samples\n",
        "    return avg_loss, accuracy"
      ],
      "metadata": {
        "id": "fExcbOxm8sOE"
      },
      "execution_count": null,
      "outputs": []
    },
    {
      "cell_type": "code",
      "source": [
        "def validation(model, val_loader, criterion,DEVICE):\n",
        "    model.eval()\n",
        "    model.to(DEVICE)\n",
        "\n",
        "    running_loss = 0\n",
        "    correct_predictions = 0\n",
        "    total_samples = 0\n",
        "\n",
        "    with torch.no_grad():\n",
        "        for images, labels in val_loader:\n",
        "            images,labels = images.to(DEVICE),labels.to(DEVICE)\n",
        "            outputs = model(images)\n",
        "            loss = criterion(outputs, labels)\n",
        "            running_loss += loss.item()\n",
        "            _, predicted = torch.max(outputs.data, 1) #(B, class_id)\n",
        "            total_samples += labels.size(0)\n",
        "            correct_predictions += (predicted == labels).sum().item()\n",
        "\n",
        "    avg_loss = running_loss / len(val_loader)\n",
        "    accuracy = 100 * correct_predictions / total_samples\n",
        "    return avg_loss, accuracy"
      ],
      "metadata": {
        "id": "Fh3F3Ui_8ug_"
      },
      "execution_count": null,
      "outputs": []
    },
    {
      "cell_type": "markdown",
      "source": [
        "We will train for **40 epochs** and plot the training accuracy and loss."
      ],
      "metadata": {
        "id": "Hv07KKEjNzqk"
      }
    },
    {
      "cell_type": "code",
      "source": [
        "def main(model, trainloader, val_loader, epochs=5, DEVICE = \"cuda\"):\n",
        "\n",
        "    train_losses, val_losses = [], []\n",
        "    train_accuracies, val_accuracies = [], []\n",
        "\n",
        "    for epoch in range(epochs):\n",
        "        train_loss, train_accuracy = train(model, trainloader, criterion, optimizer, DEVICE)\n",
        "        val_loss, val_accuracy = validation(model, val_loader, criterion, DEVICE)\n",
        "\n",
        "        train_losses.append(train_loss)\n",
        "        train_accuracies.append(train_accuracy)\n",
        "        val_losses.append(val_loss)\n",
        "        val_accuracies.append(val_accuracy)\n",
        "\n",
        "        print(f\"Epoch {epoch+1:0>2}/{epochs} - Train Loss: {train_loss:.4f}, Train Accuracy: {train_accuracy:.2f}% - Val Loss: {val_loss:.4f}, Val Accuracy: {val_accuracy:.2f}%\")\n",
        "\n",
        "    # Plotting loss and accuracy\n",
        "    plt.figure(figsize=(12, 5))\n",
        "    plt.subplot(1, 2, 1)\n",
        "    plt.plot(range(1, epochs + 1), train_losses, label='Train Loss')\n",
        "    plt.plot(range(1, epochs + 1), val_losses, label='Validation Loss')\n",
        "    plt.xlabel('Epochs')\n",
        "    plt.ylabel('Loss')\n",
        "    plt.legend()\n",
        "\n",
        "    plt.subplot(1, 2, 2)\n",
        "    plt.plot(range(1, epochs + 1), train_accuracies, label='Train Accuracy')\n",
        "    plt.plot(range(1, epochs + 1), val_accuracies, label='Validation Accuracy')\n",
        "    plt.xlabel('Epochs')\n",
        "    plt.ylabel('Accuracy')\n",
        "    plt.legend()\n",
        "    plt.show()"
      ],
      "metadata": {
        "id": "k3cXW9L3pbUT"
      },
      "execution_count": null,
      "outputs": []
    },
    {
      "cell_type": "markdown",
      "source": [
        "With an learning rate of 0.01 our MLP Model achieved a highest val accuracy of **90.39%**."
      ],
      "metadata": {
        "id": "0pPFqXmXRrzQ"
      }
    },
    {
      "cell_type": "code",
      "source": [
        "main(mlp_model, train_loader, val_loader, epochs = num_epochs, DEVICE = DEVICE)"
      ],
      "metadata": {
        "colab": {
          "base_uri": "https://localhost:8080/"
        },
        "id": "MElT_az09MW-",
        "outputId": "8f608be2-4ae4-4767-a7ef-3a8283571935"
      },
      "execution_count": null,
      "outputs": [
        {
          "output_type": "stream",
          "name": "stdout",
          "text": [
            "Epoch 01/40 - Train Loss: 0.5596, Train Accuracy: 80.08% - Val Loss: 0.4326, Val Accuracy: 84.14%\n",
            "Epoch 02/40 - Train Loss: 0.4392, Train Accuracy: 84.28% - Val Loss: 0.3807, Val Accuracy: 85.77%\n",
            "Epoch 03/40 - Train Loss: 0.3969, Train Accuracy: 85.93% - Val Loss: 0.3801, Val Accuracy: 85.68%\n",
            "Epoch 04/40 - Train Loss: 0.3739, Train Accuracy: 86.39% - Val Loss: 0.3630, Val Accuracy: 86.48%\n",
            "Epoch 05/40 - Train Loss: 0.3558, Train Accuracy: 87.13% - Val Loss: 0.3467, Val Accuracy: 87.49%\n",
            "Epoch 06/40 - Train Loss: 0.3410, Train Accuracy: 87.59% - Val Loss: 0.3391, Val Accuracy: 87.68%\n",
            "Epoch 07/40 - Train Loss: 0.3268, Train Accuracy: 88.15% - Val Loss: 0.3248, Val Accuracy: 88.27%\n",
            "Epoch 08/40 - Train Loss: 0.3161, Train Accuracy: 88.47% - Val Loss: 0.3187, Val Accuracy: 88.54%\n",
            "Epoch 09/40 - Train Loss: 0.3054, Train Accuracy: 88.92% - Val Loss: 0.3104, Val Accuracy: 88.46%\n",
            "Epoch 10/40 - Train Loss: 0.2958, Train Accuracy: 89.20% - Val Loss: 0.3208, Val Accuracy: 88.43%\n",
            "Epoch 11/40 - Train Loss: 0.2836, Train Accuracy: 89.59% - Val Loss: 0.3178, Val Accuracy: 88.41%\n",
            "Epoch 12/40 - Train Loss: 0.2774, Train Accuracy: 89.78% - Val Loss: 0.3104, Val Accuracy: 89.06%\n",
            "Epoch 13/40 - Train Loss: 0.2702, Train Accuracy: 90.00% - Val Loss: 0.2980, Val Accuracy: 89.00%\n",
            "Epoch 14/40 - Train Loss: 0.2622, Train Accuracy: 90.36% - Val Loss: 0.2943, Val Accuracy: 89.33%\n",
            "Epoch 15/40 - Train Loss: 0.2557, Train Accuracy: 90.50% - Val Loss: 0.2964, Val Accuracy: 89.39%\n",
            "Epoch 16/40 - Train Loss: 0.2485, Train Accuracy: 90.82% - Val Loss: 0.3049, Val Accuracy: 88.92%\n",
            "Epoch 17/40 - Train Loss: 0.2426, Train Accuracy: 90.98% - Val Loss: 0.2967, Val Accuracy: 89.55%\n",
            "Epoch 18/40 - Train Loss: 0.2371, Train Accuracy: 91.28% - Val Loss: 0.2922, Val Accuracy: 89.60%\n",
            "Epoch 19/40 - Train Loss: 0.2288, Train Accuracy: 91.57% - Val Loss: 0.2954, Val Accuracy: 89.29%\n",
            "Epoch 20/40 - Train Loss: 0.2232, Train Accuracy: 91.66% - Val Loss: 0.2956, Val Accuracy: 89.57%\n",
            "Epoch 21/40 - Train Loss: 0.2207, Train Accuracy: 91.82% - Val Loss: 0.3005, Val Accuracy: 89.52%\n",
            "Epoch 22/40 - Train Loss: 0.2162, Train Accuracy: 92.08% - Val Loss: 0.2933, Val Accuracy: 89.46%\n",
            "Epoch 23/40 - Train Loss: 0.2128, Train Accuracy: 92.08% - Val Loss: 0.2896, Val Accuracy: 89.85%\n",
            "Epoch 24/40 - Train Loss: 0.2070, Train Accuracy: 92.23% - Val Loss: 0.2929, Val Accuracy: 89.86%\n",
            "Epoch 25/40 - Train Loss: 0.2026, Train Accuracy: 92.52% - Val Loss: 0.2941, Val Accuracy: 89.82%\n",
            "Epoch 26/40 - Train Loss: 0.1972, Train Accuracy: 92.67% - Val Loss: 0.3040, Val Accuracy: 89.61%\n",
            "Epoch 27/40 - Train Loss: 0.1959, Train Accuracy: 92.79% - Val Loss: 0.2985, Val Accuracy: 90.05%\n",
            "Epoch 28/40 - Train Loss: 0.1921, Train Accuracy: 92.78% - Val Loss: 0.3016, Val Accuracy: 90.10%\n"
          ]
        }
      ]
    },
    {
      "cell_type": "markdown",
      "source": [
        "## 5. Inference Results\n",
        "\n",
        "We can now predict the results for all the test images, as shown in the code below. Here, we call the `next(iter(val_loader))` to retrieve all the predictions of the first batch, and then we select a specific index from the batch outputs and print out the predicted scores for each class. You can experiment with the code below by setting the test index to various values and see how the highest score is usually associated with the correct value indicated by the ground truth."
      ],
      "metadata": {
        "id": "p8VDg_KgB796"
      }
    },
    {
      "cell_type": "code",
      "source": [
        "images, gt_labels = next(iter(val_loader))\n",
        "\n",
        "rand_idx = random.choice(range(len(images)))\n",
        "\n",
        "plt.imshow(image[rand_idx].squeeze())\n",
        "plt.title(\"Ground Truth Label: \" + str(int(gt_labels[rand_idx])), fontsize = 12)\n",
        "plt.axis(\"off\")\n",
        "plt.show()"
      ],
      "metadata": {
        "colab": {
          "base_uri": "https://localhost:8080/",
          "height": 428
        },
        "id": "Fmpl6eEgCCL7",
        "outputId": "710553d9-9f1f-43f8-e75a-ae2424aecec2"
      },
      "execution_count": null,
      "outputs": [
        {
          "output_type": "display_data",
          "data": {
            "text/plain": [
              "<Figure size 640x480 with 1 Axes>"
            ],
            "image/png": "[encoded data removed]"
          },
          "metadata": {}
        }
      ]
    },
    {
      "cell_type": "code",
      "source": [
        "# Formatting\n",
        "bold = f\"\\033[1m\"\n",
        "reset = f\"\\033[0m\""
      ],
      "metadata": {
        "id": "2O49WdGeR4HH"
      },
      "execution_count": null,
      "outputs": []
    },
    {
      "cell_type": "code",
      "source": [
        "mlp_model.eval()\n",
        "\n",
        "with torch.no_grad():\n",
        "     batch_outputs = mlp_model(images.to(DEVICE))\n",
        "\n",
        "prob_score_batch = batch_outputs.softmax(dim=1).cpu()\n",
        "\n",
        "prob_score_test_image = prob_score_batch[rand_idx]\n",
        "pred_cls_id = prob_score_test_image.argmax()\n",
        "\n",
        "print(\"Predictions for each class on the test image:\\n\")\n",
        "\n",
        "for idx, cls_prob in enumerate(prob_score_test_image):\n",
        "    if idx == pred_cls_id:\n",
        "       print(f\"{bold}Class: {idx} - {class_mapping[idx]}, Probability: {cls_prob:.3f}{reset}\")\n",
        "    else:\n",
        "       print(f\"Class: {idx} - {class_mapping[idx]}, Probability: {cls_prob:.3f}\")"
      ],
      "metadata": {
        "colab": {
          "base_uri": "https://localhost:8080/"
        },
        "id": "qgHb67H7AfBm",
        "outputId": "7b15972a-7d09-4da6-a0e6-cafd515cf8a8"
      },
      "execution_count": null,
      "outputs": [
        {
          "output_type": "stream",
          "name": "stdout",
          "text": [
            "Predictions for each class on the test image:\n",
            "\n",
            "Class: 0 - T-shirt/top, Probability: 0.000\n",
            "Class: 1 - Trouser, Probability: 0.000\n",
            "Class: 2 - Pullover, Probability: 0.014\n",
            "Class: 3 - Dress, Probability: 0.000\n",
            "\u001b[1mClass: 4 - Coat, Probability: 0.984\u001b[0m\n",
            "Class: 5 - Sandal, Probability: 0.000\n",
            "Class: 6 - Shirt, Probability: 0.002\n",
            "Class: 7 - Sneaker, Probability: 0.000\n",
            "Class: 8 - Bag, Probability: 0.000\n",
            "Class: 9 - Ankle boot, Probability: 0.000\n"
          ]
        }
      ]
    },
    {
      "cell_type": "markdown",
      "source": [
        "#### **5.1. Confusion  matrix**\n",
        "\n",
        "A confusion matrix is a very common metric that is used to summarize the results of a classification problem. The information is presented in the form of a table or matrix where one axis represents the ground truth labels for each class, and the other axis represents the predicted lables from the network. The entries in the table represent the number of instances from an experiment (which are sometimes represented as percentages rather than counts). Generating a confusion matrix is accomplished by calling the `confusion_matrix` from `sklearn.metrics`, which takes two required arguments which are the list of ground truth labels and the associated predicted lables."
      ],
      "metadata": {
        "id": "vWDqRkvgB4YK"
      }
    },
    {
      "cell_type": "code",
      "source": [
        "from sklearn.metrics import confusion_matrix\n",
        "import seaborn as sn"
      ],
      "metadata": {
        "id": "Dqry4PyrxYF4"
      },
      "execution_count": null,
      "outputs": []
    },
    {
      "cell_type": "code",
      "source": [
        "def prediction_batch(model, batch_inputs):\n",
        "    model.eval()\n",
        "\n",
        "    batch_outputs = model(batch_inputs)\n",
        "\n",
        "    with torch.no_grad():\n",
        "        batch_probs = batch_outputs.softmax(dim=1) #along num of classes dimension\n",
        "\n",
        "    batch_cls_ids = batch_probs.argmax(dim=1)\n",
        "\n",
        "    return batch_cls_ids.cpu()"
      ],
      "metadata": {
        "id": "-V7r4XxTCo0q"
      },
      "execution_count": null,
      "outputs": []
    },
    {
      "cell_type": "code",
      "source": [
        "val_target_labels = []\n",
        "val_predicted_labels = []\n",
        "\n",
        "for image_batch, target_batch in val_loader:\n",
        "    image_batch = image_batch.to(DEVICE)\n",
        "\n",
        "    batch_pred_cls_id = prediction_batch(mlp_model, image_batch)\n",
        "\n",
        "    val_predicted_labels.append(batch_pred_cls_id)\n",
        "    val_target_labels.append(target_batch)\n",
        "\n",
        "val_target_labels = torch.cat(val_target_labels).numpy()\n",
        "val_predicted_labels = torch.cat(val_predicted_labels).numpy()"
      ],
      "metadata": {
        "id": "jLqm0ukkwAuq"
      },
      "execution_count": null,
      "outputs": []
    },
    {
      "cell_type": "code",
      "source": [
        "cm = confusion_matrix(y_true=val_target_labels, y_pred = val_predicted_labels)\n",
        "\n",
        "plt.figure(figsize= [15,8])\n",
        "\n",
        "# Plot the confusion matrix as a heatmap.\n",
        "sn.heatmap(cm, annot=True, fmt='d', annot_kws={\"size\":14})\n",
        "plt.xlabel(\"Predicted\")\n",
        "plt.ylabel(\"Targets\")\n",
        "plt.title(f\"Confusion Matrix\", color=\"gray\")\n",
        "plt.show()"
      ],
      "metadata": {
        "id": "PEVyTBqWxDAx",
        "colab": {
          "base_uri": "https://localhost:8080/",
          "height": 718
        },
        "outputId": "c40e352b-6832-4dd9-a3e7-710373432b09"
      },
      "execution_count": null,
      "outputs": [
        {
          "output_type": "display_data",
          "data": {
            "text/plain": [
              "<Figure size 1500x800 with 2 Axes>"
            ],
            "image/png": "[encoded data removed]"
          },
          "metadata": {}
        }
      ]
    },
    {
      "cell_type": "markdown",
      "source": [
        "## 6. Conclusion\n",
        "\n",
        "In this notebook, we introduced a simple approach for how to model image data for use in a densely connected network to perform multinomial classification. In the next notebook, we will learn about Convolutional Neural Networks (CNNs) that are specifically designed to process image data. The following link contains a really nice interactive web-based animation of several well-known CNN architectures, which is a great place to start getting familiar with them.\n",
        "\n",
        "* 6.1. https://tensorspace.org/html/playground/lenet.html\n",
        "* 6.2. https://poloclub.github.io/cnn-explainer/"
      ],
      "metadata": {
        "id": "gyXGYPp8PEnF"
      }
    }
  ]
}